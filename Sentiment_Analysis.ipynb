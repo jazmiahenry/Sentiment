{
 "cells": [
  {
   "cell_type": "markdown",
   "metadata": {},
   "source": [
    "## Sentiment Analysis\n",
    "**by Jazmia Henry**"
   ]
  },
  {
   "cell_type": "markdown",
   "metadata": {},
   "source": [
    "The goal of this modeling challenge is to show my ability to make complex models to make sentiment analysis using the data provided. Below is not only code used to acheive those ends, but also information on how these models can be improved. As a computer scientist, I care not only able writing easily digestable and readable code, but also acknowledging possible places of improvement. I strive to always grow as a scientist and engineer. Thank you."
   ]
  },
  {
   "cell_type": "code",
   "execution_count": 1,
   "metadata": {},
   "outputs": [],
   "source": [
    "import os\n",
    "import pandas as pd\n",
    "import numpy as np\n",
    "import tensorflow as tf\n",
    "from tensorflow import keras\n",
    "from tensorflow.keras import layers\n",
    "import cv2\n",
    "from vaderSentiment.vaderSentiment import SentimentIntensityAnalyzer"
   ]
  },
  {
   "cell_type": "code",
   "execution_count": 2,
   "metadata": {},
   "outputs": [],
   "source": [
    "df1 = pd.read_csv('post_metrics_and_comments.csv')\n",
    "df2 = pd.read_csv('hashtag_top_appearances.csv')"
   ]
  },
  {
   "cell_type": "code",
   "execution_count": 3,
   "metadata": {},
   "outputs": [],
   "source": [
    "#Transforming datasets"
   ]
  },
  {
   "cell_type": "code",
   "execution_count": 4,
   "metadata": {},
   "outputs": [
    {
     "data": {
      "text/html": [
       "<div>\n",
       "<style scoped>\n",
       "    .dataframe tbody tr th:only-of-type {\n",
       "        vertical-align: middle;\n",
       "    }\n",
       "\n",
       "    .dataframe tbody tr th {\n",
       "        vertical-align: top;\n",
       "    }\n",
       "\n",
       "    .dataframe thead th {\n",
       "        text-align: right;\n",
       "    }\n",
       "</style>\n",
       "<table border=\"1\" class=\"dataframe\">\n",
       "  <thead>\n",
       "    <tr style=\"text-align: right;\">\n",
       "      <th></th>\n",
       "      <th>post_url</th>\n",
       "      <th>username</th>\n",
       "      <th>date_posted</th>\n",
       "      <th>img_urls</th>\n",
       "      <th>caption</th>\n",
       "      <th>max_likes</th>\n",
       "      <th>max_comments</th>\n",
       "      <th>max_views</th>\n",
       "      <th>followers</th>\n",
       "      <th>following</th>\n",
       "      <th>concatenated_comments</th>\n",
       "    </tr>\n",
       "  </thead>\n",
       "  <tbody>\n",
       "    <tr>\n",
       "      <th>0</th>\n",
       "      <td>https://www.instagram.com/p/B-y2oOeDpj2/</td>\n",
       "      <td>064_steady</td>\n",
       "      <td>2020-04-10</td>\n",
       "      <td>{https://finesse-instagram-post-images.s3-us-w...</td>\n",
       "      <td>온라인개학으로 아침마다 아이들에게 모닝콜을 해줄 수 있어서 행복합니다. 하하하하😭 ...</td>\n",
       "      <td>1019</td>\n",
       "      <td>38</td>\n",
       "      <td>NaN</td>\n",
       "      <td>8423</td>\n",
       "      <td>697</td>\n",
       "      <td>@_o9.02 가입하자 연재야😘|아고 ㅠㅠㅠㅠ 힘드실텐데 아자아자 화이팅입니다 !!...</td>\n",
       "    </tr>\n",
       "    <tr>\n",
       "      <th>1</th>\n",
       "      <td>https://www.instagram.com/p/B_B4e5qDtOU/</td>\n",
       "      <td>064_steady</td>\n",
       "      <td>2020-04-16</td>\n",
       "      <td>{https://finesse-instagram-post-images.s3-us-w...</td>\n",
       "      <td>2014. 04. 16. 우리 모두 웃을 수 있기를... more</td>\n",
       "      <td>1039</td>\n",
       "      <td>12</td>\n",
       "      <td>NaN</td>\n",
       "      <td>8423</td>\n",
       "      <td>697</td>\n",
       "      <td>@nam_bbs 정말요?🙌|옷입는 스타일 너무너무 멋있으세요 ☺️|코디 너무 좋아요...</td>\n",
       "    </tr>\n",
       "    <tr>\n",
       "      <th>2</th>\n",
       "      <td>https://www.instagram.com/p/B-3-Skoj2ub/</td>\n",
       "      <td>064_steady</td>\n",
       "      <td>2020-04-12</td>\n",
       "      <td>{https://finesse-instagram-post-images.s3-us-w...</td>\n",
       "      <td>내일이 월요일이니까 웃자😁... more</td>\n",
       "      <td>764</td>\n",
       "      <td>35</td>\n",
       "      <td>NaN</td>\n",
       "      <td>8423</td>\n",
       "      <td>697</td>\n",
       "      <td>❤️|헐 선생님....멋져요....♥️|워료일 쪼아~ 최고로 쪼아~|Very sum...</td>\n",
       "    </tr>\n",
       "    <tr>\n",
       "      <th>3</th>\n",
       "      <td>https://www.instagram.com/p/B_UhfCuDnJU/</td>\n",
       "      <td>064_steady</td>\n",
       "      <td>2020-04-23</td>\n",
       "      <td>{https://finesse-instagram-post-images.s3-us-w...</td>\n",
       "      <td>너무 배불러요 ㅠㅠㅠ... more</td>\n",
       "      <td>779</td>\n",
       "      <td>56</td>\n",
       "      <td>NaN</td>\n",
       "      <td>8423</td>\n",
       "      <td>697</td>\n",
       "      <td>ㅋㅋㅋㅋㅋㅋㅋㅋㅋㅋ배불러졌다는게 너무 웃겨욬ㅋㅋㅋㅋㅋ|깔끔한 쓰앵님🤭👍🏿|😍😍😍😍❤...</td>\n",
       "    </tr>\n",
       "    <tr>\n",
       "      <th>4</th>\n",
       "      <td>https://www.instagram.com/p/B-6isIeD-0-/</td>\n",
       "      <td>064_steady</td>\n",
       "      <td>2020-04-13</td>\n",
       "      <td>{https://finesse-instagram-post-images.s3-us-w...</td>\n",
       "      <td>월요병 극복🥴</td>\n",
       "      <td>733</td>\n",
       "      <td>26</td>\n",
       "      <td>NaN</td>\n",
       "      <td>8423</td>\n",
       "      <td>697</td>\n",
       "      <td>극복 나이스👍🏻|@mndp404 시간은 결국 흐르니 ㅠㅠ|내일도 화요팅~!|@yeo...</td>\n",
       "    </tr>\n",
       "  </tbody>\n",
       "</table>\n",
       "</div>"
      ],
      "text/plain": [
       "                                   post_url    username date_posted  \\\n",
       "0  https://www.instagram.com/p/B-y2oOeDpj2/  064_steady  2020-04-10   \n",
       "1  https://www.instagram.com/p/B_B4e5qDtOU/  064_steady  2020-04-16   \n",
       "2  https://www.instagram.com/p/B-3-Skoj2ub/  064_steady  2020-04-12   \n",
       "3  https://www.instagram.com/p/B_UhfCuDnJU/  064_steady  2020-04-23   \n",
       "4  https://www.instagram.com/p/B-6isIeD-0-/  064_steady  2020-04-13   \n",
       "\n",
       "                                            img_urls  \\\n",
       "0  {https://finesse-instagram-post-images.s3-us-w...   \n",
       "1  {https://finesse-instagram-post-images.s3-us-w...   \n",
       "2  {https://finesse-instagram-post-images.s3-us-w...   \n",
       "3  {https://finesse-instagram-post-images.s3-us-w...   \n",
       "4  {https://finesse-instagram-post-images.s3-us-w...   \n",
       "\n",
       "                                             caption  max_likes  max_comments  \\\n",
       "0  온라인개학으로 아침마다 아이들에게 모닝콜을 해줄 수 있어서 행복합니다. 하하하하😭 ...       1019            38   \n",
       "1               2014. 04. 16. 우리 모두 웃을 수 있기를... more       1039            12   \n",
       "2                             내일이 월요일이니까 웃자😁... more        764            35   \n",
       "3                                너무 배불러요 ㅠㅠㅠ... more        779            56   \n",
       "4                                            월요병 극복🥴        733            26   \n",
       "\n",
       "   max_views  followers  following  \\\n",
       "0        NaN       8423        697   \n",
       "1        NaN       8423        697   \n",
       "2        NaN       8423        697   \n",
       "3        NaN       8423        697   \n",
       "4        NaN       8423        697   \n",
       "\n",
       "                               concatenated_comments  \n",
       "0  @_o9.02 가입하자 연재야😘|아고 ㅠㅠㅠㅠ 힘드실텐데 아자아자 화이팅입니다 !!...  \n",
       "1  @nam_bbs 정말요?🙌|옷입는 스타일 너무너무 멋있으세요 ☺️|코디 너무 좋아요...  \n",
       "2  ❤️|헐 선생님....멋져요....♥️|워료일 쪼아~ 최고로 쪼아~|Very sum...  \n",
       "3  ㅋㅋㅋㅋㅋㅋㅋㅋㅋㅋ배불러졌다는게 너무 웃겨욬ㅋㅋㅋㅋㅋ|깔끔한 쓰앵님🤭👍🏿|😍😍😍😍❤...  \n",
       "4  극복 나이스👍🏻|@mndp404 시간은 결국 흐르니 ㅠㅠ|내일도 화요팅~!|@yeo...  "
      ]
     },
     "execution_count": 4,
     "metadata": {},
     "output_type": "execute_result"
    }
   ],
   "source": [
    "df1.head()"
   ]
  },
  {
   "cell_type": "code",
   "execution_count": 5,
   "metadata": {},
   "outputs": [
    {
     "data": {
      "text/plain": [
       "11637"
      ]
     },
     "execution_count": 5,
     "metadata": {},
     "output_type": "execute_result"
    }
   ],
   "source": [
    "len(df1.index)"
   ]
  },
  {
   "cell_type": "code",
   "execution_count": 6,
   "metadata": {},
   "outputs": [
    {
     "data": {
      "text/html": [
       "<div>\n",
       "<style scoped>\n",
       "    .dataframe tbody tr th:only-of-type {\n",
       "        vertical-align: middle;\n",
       "    }\n",
       "\n",
       "    .dataframe tbody tr th {\n",
       "        vertical-align: top;\n",
       "    }\n",
       "\n",
       "    .dataframe thead th {\n",
       "        text-align: right;\n",
       "    }\n",
       "</style>\n",
       "<table border=\"1\" class=\"dataframe\">\n",
       "  <thead>\n",
       "    <tr style=\"text-align: right;\">\n",
       "      <th></th>\n",
       "      <th>post_url</th>\n",
       "      <th>days_in_hashtag_top_section</th>\n",
       "    </tr>\n",
       "  </thead>\n",
       "  <tbody>\n",
       "    <tr>\n",
       "      <th>0</th>\n",
       "      <td>https://www.instagram.com/p/B-zJQlUI6uN/</td>\n",
       "      <td>38</td>\n",
       "    </tr>\n",
       "    <tr>\n",
       "      <th>1</th>\n",
       "      <td>https://www.instagram.com/p/B-cuVYrJncn/</td>\n",
       "      <td>36</td>\n",
       "    </tr>\n",
       "    <tr>\n",
       "      <th>2</th>\n",
       "      <td>https://www.instagram.com/p/B_CHJzXDeNF/</td>\n",
       "      <td>33</td>\n",
       "    </tr>\n",
       "    <tr>\n",
       "      <th>3</th>\n",
       "      <td>https://www.instagram.com/p/B-_07jGpiWT/</td>\n",
       "      <td>29</td>\n",
       "    </tr>\n",
       "    <tr>\n",
       "      <th>4</th>\n",
       "      <td>https://www.instagram.com/p/B-xB_snKjld/</td>\n",
       "      <td>29</td>\n",
       "    </tr>\n",
       "  </tbody>\n",
       "</table>\n",
       "</div>"
      ],
      "text/plain": [
       "                                   post_url  days_in_hashtag_top_section\n",
       "0  https://www.instagram.com/p/B-zJQlUI6uN/                           38\n",
       "1  https://www.instagram.com/p/B-cuVYrJncn/                           36\n",
       "2  https://www.instagram.com/p/B_CHJzXDeNF/                           33\n",
       "3  https://www.instagram.com/p/B-_07jGpiWT/                           29\n",
       "4  https://www.instagram.com/p/B-xB_snKjld/                           29"
      ]
     },
     "execution_count": 6,
     "metadata": {},
     "output_type": "execute_result"
    }
   ],
   "source": [
    "df2.head()"
   ]
  },
  {
   "cell_type": "code",
   "execution_count": 7,
   "metadata": {},
   "outputs": [
    {
     "data": {
      "text/plain": [
       "25062"
      ]
     },
     "execution_count": 7,
     "metadata": {},
     "output_type": "execute_result"
    }
   ],
   "source": [
    "len(df2.index)"
   ]
  },
  {
   "cell_type": "code",
   "execution_count": 8,
   "metadata": {},
   "outputs": [
    {
     "data": {
      "text/html": [
       "<div>\n",
       "<style scoped>\n",
       "    .dataframe tbody tr th:only-of-type {\n",
       "        vertical-align: middle;\n",
       "    }\n",
       "\n",
       "    .dataframe tbody tr th {\n",
       "        vertical-align: top;\n",
       "    }\n",
       "\n",
       "    .dataframe thead th {\n",
       "        text-align: right;\n",
       "    }\n",
       "</style>\n",
       "<table border=\"1\" class=\"dataframe\">\n",
       "  <thead>\n",
       "    <tr style=\"text-align: right;\">\n",
       "      <th></th>\n",
       "      <th>post_url</th>\n",
       "      <th>days_in_hashtag_top_section</th>\n",
       "      <th>username</th>\n",
       "      <th>date_posted</th>\n",
       "      <th>img_urls</th>\n",
       "      <th>caption</th>\n",
       "      <th>max_likes</th>\n",
       "      <th>max_comments</th>\n",
       "      <th>max_views</th>\n",
       "      <th>followers</th>\n",
       "      <th>following</th>\n",
       "      <th>concatenated_comments</th>\n",
       "    </tr>\n",
       "  </thead>\n",
       "  <tbody>\n",
       "    <tr>\n",
       "      <th>0</th>\n",
       "      <td>https://www.instagram.com/p/B-cuVYrJncn/</td>\n",
       "      <td>36</td>\n",
       "      <td>xxlexx007</td>\n",
       "      <td>2020-04-01</td>\n",
       "      <td>{https://finesse-instagram-post-images.s3-us-w...</td>\n",
       "      <td>i’m a gorilla in a f*ckin coupe... more</td>\n",
       "      <td>2283</td>\n",
       "      <td>151</td>\n",
       "      <td>NaN</td>\n",
       "      <td>4487</td>\n",
       "      <td>896</td>\n",
       "      <td>@opulent_____clothing 👊🏾👊🏾|@opulent_____clothi...</td>\n",
       "    </tr>\n",
       "    <tr>\n",
       "      <th>1</th>\n",
       "      <td>https://www.instagram.com/p/B_CHJzXDeNF/</td>\n",
       "      <td>33</td>\n",
       "      <td>vinceropitini</td>\n",
       "      <td>2020-04-16</td>\n",
       "      <td>{https://finesse-instagram-post-images.s3-us-w...</td>\n",
       "      <td>bitta og obsolescence for your timeline x</td>\n",
       "      <td>1109</td>\n",
       "      <td>50</td>\n",
       "      <td>NaN</td>\n",
       "      <td>4038</td>\n",
       "      <td>1109</td>\n",
       "      <td>@zack.paterson heheh 🥵🥺|@zack.paterson heheh 🥵...</td>\n",
       "    </tr>\n",
       "    <tr>\n",
       "      <th>2</th>\n",
       "      <td>https://www.instagram.com/p/B-_07jGpiWT/</td>\n",
       "      <td>29</td>\n",
       "      <td>squardes_</td>\n",
       "      <td>2020-04-15</td>\n",
       "      <td>{https://finesse-instagram-post-images.s3-us-w...</td>\n",
       "      <td>Gm 🌈 | follow @squardes_</td>\n",
       "      <td>506</td>\n",
       "      <td>4</td>\n",
       "      <td>NaN</td>\n",
       "      <td>25000</td>\n",
       "      <td>26</td>\n",
       "      <td>Gm 🌈 | follow @squardes_|❤|A fit🎉🎉🎉🎉|@squardes...</td>\n",
       "    </tr>\n",
       "    <tr>\n",
       "      <th>3</th>\n",
       "      <td>https://www.instagram.com/p/B-xB_snKjld/</td>\n",
       "      <td>29</td>\n",
       "      <td>squardes_</td>\n",
       "      <td>2020-04-09</td>\n",
       "      <td>{https://finesse-instagram-post-images.s3-us-w...</td>\n",
       "      <td>Clean?🌊 | follow @squardes_</td>\n",
       "      <td>1758</td>\n",
       "      <td>14</td>\n",
       "      <td>NaN</td>\n",
       "      <td>25000</td>\n",
       "      <td>26</td>\n",
       "      <td>Hey Bro! Love your vibe, let’s collab. DM main...</td>\n",
       "    </tr>\n",
       "    <tr>\n",
       "      <th>4</th>\n",
       "      <td>https://www.instagram.com/p/B-9fgRUqRo5/</td>\n",
       "      <td>28</td>\n",
       "      <td>misfashionedsneakers</td>\n",
       "      <td>2020-04-14</td>\n",
       "      <td>{https://finesse-instagram-post-images.s3-us-w...</td>\n",
       "      <td>Comic - @toobrokeforysl ... more</td>\n",
       "      <td>20478</td>\n",
       "      <td>31</td>\n",
       "      <td>NaN</td>\n",
       "      <td>48600</td>\n",
       "      <td>5</td>\n",
       "      <td>1TAG=+100 IQ @ayepixel|@falak_ghauri 🥺|@falak_...</td>\n",
       "    </tr>\n",
       "  </tbody>\n",
       "</table>\n",
       "</div>"
      ],
      "text/plain": [
       "                                   post_url  days_in_hashtag_top_section  \\\n",
       "0  https://www.instagram.com/p/B-cuVYrJncn/                           36   \n",
       "1  https://www.instagram.com/p/B_CHJzXDeNF/                           33   \n",
       "2  https://www.instagram.com/p/B-_07jGpiWT/                           29   \n",
       "3  https://www.instagram.com/p/B-xB_snKjld/                           29   \n",
       "4  https://www.instagram.com/p/B-9fgRUqRo5/                           28   \n",
       "\n",
       "               username date_posted  \\\n",
       "0             xxlexx007  2020-04-01   \n",
       "1         vinceropitini  2020-04-16   \n",
       "2             squardes_  2020-04-15   \n",
       "3             squardes_  2020-04-09   \n",
       "4  misfashionedsneakers  2020-04-14   \n",
       "\n",
       "                                            img_urls  \\\n",
       "0  {https://finesse-instagram-post-images.s3-us-w...   \n",
       "1  {https://finesse-instagram-post-images.s3-us-w...   \n",
       "2  {https://finesse-instagram-post-images.s3-us-w...   \n",
       "3  {https://finesse-instagram-post-images.s3-us-w...   \n",
       "4  {https://finesse-instagram-post-images.s3-us-w...   \n",
       "\n",
       "                                     caption  max_likes  max_comments  \\\n",
       "0    i’m a gorilla in a f*ckin coupe... more       2283           151   \n",
       "1  bitta og obsolescence for your timeline x       1109            50   \n",
       "2                   Gm 🌈 | follow @squardes_        506             4   \n",
       "3                Clean?🌊 | follow @squardes_       1758            14   \n",
       "4           Comic - @toobrokeforysl ... more      20478            31   \n",
       "\n",
       "   max_views  followers  following  \\\n",
       "0        NaN       4487        896   \n",
       "1        NaN       4038       1109   \n",
       "2        NaN      25000         26   \n",
       "3        NaN      25000         26   \n",
       "4        NaN      48600          5   \n",
       "\n",
       "                               concatenated_comments  \n",
       "0  @opulent_____clothing 👊🏾👊🏾|@opulent_____clothi...  \n",
       "1  @zack.paterson heheh 🥵🥺|@zack.paterson heheh 🥵...  \n",
       "2  Gm 🌈 | follow @squardes_|❤|A fit🎉🎉🎉🎉|@squardes...  \n",
       "3  Hey Bro! Love your vibe, let’s collab. DM main...  \n",
       "4  1TAG=+100 IQ @ayepixel|@falak_ghauri 🥺|@falak_...  "
      ]
     },
     "execution_count": 8,
     "metadata": {},
     "output_type": "execute_result"
    }
   ],
   "source": [
    "df4 = pd.merge(df2, df1)\n",
    "df4.head()"
   ]
  },
  {
   "cell_type": "code",
   "execution_count": 9,
   "metadata": {},
   "outputs": [
    {
     "data": {
      "text/plain": [
       "11637"
      ]
     },
     "execution_count": 9,
     "metadata": {},
     "output_type": "execute_result"
    }
   ],
   "source": [
    "len(df4.index)"
   ]
  },
  {
   "cell_type": "markdown",
   "metadata": {},
   "source": [
    "#### Data transformation Improvement\n",
    "Data could be more appropriately engineered using PostgreSQL to:\n",
    "1. Avoid duplicate data across dataframes while merging\n",
    "2. Joining Dataframes by simular columns (ie joining date_posted and date_time_collected)\n",
    "3. Using SQLite to process SQL table in Jupyter notebook and transform into Dataframe using Pandas"
   ]
  },
  {
   "cell_type": "code",
   "execution_count": 10,
   "metadata": {
    "scrolled": true
   },
   "outputs": [
    {
     "name": "stdout",
     "output_type": "stream",
     "text": [
      "post_url\n",
      "days_in_hashtag_top_section\n",
      "username\n",
      "date_posted\n",
      "img_urls\n",
      "caption\n",
      "max_likes\n",
      "max_comments\n",
      "max_views\n",
      "followers\n",
      "following\n",
      "concatenated_comments\n"
     ]
    }
   ],
   "source": [
    "for col in df4.columns: \n",
    "    print(col)"
   ]
  },
  {
   "cell_type": "code",
   "execution_count": 11,
   "metadata": {},
   "outputs": [],
   "source": [
    "df = df4.drop(['post_url', 'username', 'date_posted', 'img_urls', 'max_likes', 'max_comments', 'max_views', 'followers', 'following', 'concatenated_comments'], axis=1)"
   ]
  },
  {
   "cell_type": "code",
   "execution_count": 12,
   "metadata": {},
   "outputs": [
    {
     "data": {
      "text/html": [
       "<div>\n",
       "<style scoped>\n",
       "    .dataframe tbody tr th:only-of-type {\n",
       "        vertical-align: middle;\n",
       "    }\n",
       "\n",
       "    .dataframe tbody tr th {\n",
       "        vertical-align: top;\n",
       "    }\n",
       "\n",
       "    .dataframe thead th {\n",
       "        text-align: right;\n",
       "    }\n",
       "</style>\n",
       "<table border=\"1\" class=\"dataframe\">\n",
       "  <thead>\n",
       "    <tr style=\"text-align: right;\">\n",
       "      <th></th>\n",
       "      <th>days_in_hashtag_top_section</th>\n",
       "      <th>caption</th>\n",
       "    </tr>\n",
       "  </thead>\n",
       "  <tbody>\n",
       "    <tr>\n",
       "      <th>0</th>\n",
       "      <td>36</td>\n",
       "      <td>i’m a gorilla in a f*ckin coupe... more</td>\n",
       "    </tr>\n",
       "    <tr>\n",
       "      <th>1</th>\n",
       "      <td>33</td>\n",
       "      <td>bitta og obsolescence for your timeline x</td>\n",
       "    </tr>\n",
       "    <tr>\n",
       "      <th>2</th>\n",
       "      <td>29</td>\n",
       "      <td>Gm 🌈 | follow @squardes_</td>\n",
       "    </tr>\n",
       "    <tr>\n",
       "      <th>3</th>\n",
       "      <td>29</td>\n",
       "      <td>Clean?🌊 | follow @squardes_</td>\n",
       "    </tr>\n",
       "    <tr>\n",
       "      <th>4</th>\n",
       "      <td>28</td>\n",
       "      <td>Comic - @toobrokeforysl ... more</td>\n",
       "    </tr>\n",
       "    <tr>\n",
       "      <th>...</th>\n",
       "      <td>...</td>\n",
       "      <td>...</td>\n",
       "    </tr>\n",
       "    <tr>\n",
       "      <th>11632</th>\n",
       "      <td>0</td>\n",
       "      <td>Оказаться сейчас на море, очень бы не помешало...</td>\n",
       "    </tr>\n",
       "    <tr>\n",
       "      <th>11633</th>\n",
       "      <td>0</td>\n",
       "      <td>Because I can’t steel my sister’s clothes anym...</td>\n",
       "    </tr>\n",
       "    <tr>\n",
       "      <th>11634</th>\n",
       "      <td>0</td>\n",
       "      <td>check</td>\n",
       "    </tr>\n",
       "    <tr>\n",
       "      <th>11635</th>\n",
       "      <td>0</td>\n",
       "      <td>Views | @culturfits</td>\n",
       "    </tr>\n",
       "    <tr>\n",
       "      <th>11636</th>\n",
       "      <td>0</td>\n",
       "      <td>REMINISCING 🙃... more</td>\n",
       "    </tr>\n",
       "  </tbody>\n",
       "</table>\n",
       "<p>11637 rows × 2 columns</p>\n",
       "</div>"
      ],
      "text/plain": [
       "       days_in_hashtag_top_section  \\\n",
       "0                               36   \n",
       "1                               33   \n",
       "2                               29   \n",
       "3                               29   \n",
       "4                               28   \n",
       "...                            ...   \n",
       "11632                            0   \n",
       "11633                            0   \n",
       "11634                            0   \n",
       "11635                            0   \n",
       "11636                            0   \n",
       "\n",
       "                                                 caption  \n",
       "0                i’m a gorilla in a f*ckin coupe... more  \n",
       "1              bitta og obsolescence for your timeline x  \n",
       "2                               Gm 🌈 | follow @squardes_  \n",
       "3                            Clean?🌊 | follow @squardes_  \n",
       "4                       Comic - @toobrokeforysl ... more  \n",
       "...                                                  ...  \n",
       "11632  Оказаться сейчас на море, очень бы не помешало...  \n",
       "11633  Because I can’t steel my sister’s clothes anym...  \n",
       "11634                                              check  \n",
       "11635                                Views | @culturfits  \n",
       "11636                              REMINISCING 🙃... more  \n",
       "\n",
       "[11637 rows x 2 columns]"
      ]
     },
     "execution_count": 12,
     "metadata": {},
     "output_type": "execute_result"
    }
   ],
   "source": [
    "df"
   ]
  },
  {
   "cell_type": "code",
   "execution_count": 13,
   "metadata": {},
   "outputs": [],
   "source": [
    "#drop na\n",
    "df = df.dropna(subset=['caption'])"
   ]
  },
  {
   "cell_type": "code",
   "execution_count": 14,
   "metadata": {},
   "outputs": [
    {
     "data": {
      "text/html": [
       "<div>\n",
       "<style scoped>\n",
       "    .dataframe tbody tr th:only-of-type {\n",
       "        vertical-align: middle;\n",
       "    }\n",
       "\n",
       "    .dataframe tbody tr th {\n",
       "        vertical-align: top;\n",
       "    }\n",
       "\n",
       "    .dataframe thead th {\n",
       "        text-align: right;\n",
       "    }\n",
       "</style>\n",
       "<table border=\"1\" class=\"dataframe\">\n",
       "  <thead>\n",
       "    <tr style=\"text-align: right;\">\n",
       "      <th></th>\n",
       "      <th>days_in_hashtag_top_section</th>\n",
       "      <th>caption</th>\n",
       "    </tr>\n",
       "  </thead>\n",
       "  <tbody>\n",
       "    <tr>\n",
       "      <th>0</th>\n",
       "      <td>36</td>\n",
       "      <td>i’m a gorilla in a f*ckin coupe... more</td>\n",
       "    </tr>\n",
       "    <tr>\n",
       "      <th>1</th>\n",
       "      <td>33</td>\n",
       "      <td>bitta og obsolescence for your timeline x</td>\n",
       "    </tr>\n",
       "    <tr>\n",
       "      <th>2</th>\n",
       "      <td>29</td>\n",
       "      <td>Gm 🌈 | follow @squardes_</td>\n",
       "    </tr>\n",
       "    <tr>\n",
       "      <th>3</th>\n",
       "      <td>29</td>\n",
       "      <td>Clean?🌊 | follow @squardes_</td>\n",
       "    </tr>\n",
       "    <tr>\n",
       "      <th>4</th>\n",
       "      <td>28</td>\n",
       "      <td>Comic - @toobrokeforysl ... more</td>\n",
       "    </tr>\n",
       "  </tbody>\n",
       "</table>\n",
       "</div>"
      ],
      "text/plain": [
       "   days_in_hashtag_top_section                                    caption\n",
       "0                           36    i’m a gorilla in a f*ckin coupe... more\n",
       "1                           33  bitta og obsolescence for your timeline x\n",
       "2                           29                   Gm 🌈 | follow @squardes_\n",
       "3                           29                Clean?🌊 | follow @squardes_\n",
       "4                           28           Comic - @toobrokeforysl ... more"
      ]
     },
     "execution_count": 14,
     "metadata": {},
     "output_type": "execute_result"
    }
   ],
   "source": [
    "df.head()"
   ]
  },
  {
   "cell_type": "code",
   "execution_count": 15,
   "metadata": {},
   "outputs": [],
   "source": [
    "y = df.days_in_hashtag_top_section"
   ]
  },
  {
   "cell_type": "code",
   "execution_count": 16,
   "metadata": {},
   "outputs": [],
   "source": [
    "from sklearn.linear_model import LogisticRegression\n",
    "from sklearn.metrics import accuracy_score\n",
    "from sklearn.model_selection import train_test_split"
   ]
  },
  {
   "cell_type": "code",
   "execution_count": 17,
   "metadata": {},
   "outputs": [],
   "source": [
    "import googletrans\n",
    "from googletrans import Translator"
   ]
  },
  {
   "cell_type": "code",
   "execution_count": 18,
   "metadata": {},
   "outputs": [],
   "source": [
    "caption = df.caption"
   ]
  },
  {
   "cell_type": "code",
   "execution_count": 19,
   "metadata": {},
   "outputs": [
    {
     "data": {
      "text/plain": [
       "0                  i’m a gorilla in a f*ckin coupe... more\n",
       "1                bitta og obsolescence for your timeline x\n",
       "2                                 Gm 🌈 | follow @squardes_\n",
       "3                              Clean?🌊 | follow @squardes_\n",
       "4                         Comic - @toobrokeforysl ... more\n",
       "                               ...                        \n",
       "11632    Оказаться сейчас на море, очень бы не помешало...\n",
       "11633    Because I can’t steel my sister’s clothes anym...\n",
       "11634                                                check\n",
       "11635                                  Views | @culturfits\n",
       "11636                                REMINISCING 🙃... more\n",
       "Name: caption, Length: 11636, dtype: object"
      ]
     },
     "execution_count": 19,
     "metadata": {},
     "output_type": "execute_result"
    }
   ],
   "source": [
    "caption"
   ]
  },
  {
   "cell_type": "code",
   "execution_count": 20,
   "metadata": {},
   "outputs": [],
   "source": [
    "#clean caption data\n",
    "import re\n",
    "REPLACE_NO_SPACE = re.compile(\"[.;:!\\'?,\\\"()\\[\\]]\")\n",
    "REPLACE_WITH_SPACE = re.compile(\"(<br\\s*/><br\\s*/>)|(\\-)|(\\/)\")\n",
    "\n",
    "def preprocess_caption(caption):\n",
    "    reviews = [REPLACE_NO_SPACE.sub(\"\", line.lower()) for line in caption]\n",
    "    reviews = [REPLACE_WITH_SPACE.sub(\" \", line) for line in caption]\n",
    "    \n",
    "    return caption\n",
    "\n",
    "train_clean = preprocess_caption(caption)"
   ]
  },
  {
   "cell_type": "code",
   "execution_count": 21,
   "metadata": {},
   "outputs": [],
   "source": [
    "#training data\n",
    "X_train, X_test, y_train, y_test = train_test_split(train_clean, y, test_size=0.2)"
   ]
  },
  {
   "cell_type": "code",
   "execution_count": 22,
   "metadata": {},
   "outputs": [
    {
     "name": "stdout",
     "output_type": "stream",
     "text": [
      "(9308,) (9308,)\n",
      "(2328,) (2328,)\n"
     ]
    }
   ],
   "source": [
    "print (X_train.shape, y_train.shape)\n",
    "print (X_test.shape, y_test.shape)"
   ]
  },
  {
   "cell_type": "code",
   "execution_count": 23,
   "metadata": {},
   "outputs": [],
   "source": [
    "#vectorize comment data\n",
    "from sklearn.feature_extraction.text import CountVectorizer\n",
    "\n",
    "cv = CountVectorizer(binary=False)\n",
    "cv.fit(X_train)\n",
    "X = cv.transform(train_clean)\n",
    "X_train = cv.transform(X_train)"
   ]
  },
  {
   "cell_type": "code",
   "execution_count": 24,
   "metadata": {},
   "outputs": [],
   "source": [
    "#Naive Bayes approach to sentiment analysis"
   ]
  },
  {
   "cell_type": "code",
   "execution_count": 25,
   "metadata": {},
   "outputs": [
    {
     "name": "stdout",
     "output_type": "stream",
     "text": [
      "Accuracy for C=0.01: 0.9565142660708147\n",
      "Accuracy for C=0.05: 0.9565142660708147\n",
      "Accuracy for C=0.25: 0.9569439669989687\n",
      "Accuracy for C=0.5: 0.9582330697834307\n",
      "Accuracy for C=1: 0.9621863183224476\n"
     ]
    }
   ],
   "source": [
    "for c in [0.01, 0.05, 0.25, 0.5, 1]:\n",
    "    \n",
    "    lr = LogisticRegression(C=c)\n",
    "    lr.fit(X_train, y_train)\n",
    "    print (\"Accuracy for C=%s: %s\" % (c, accuracy_score(y, lr.predict(X))))"
   ]
  },
  {
   "cell_type": "markdown",
   "metadata": {},
   "source": [
    "#### Captions that are able to achieve top hashtag status are overwhlemingly positive."
   ]
  },
  {
   "cell_type": "markdown",
   "metadata": {},
   "source": [
    "#### Improvements to the Sentiment Analysis\n",
    "    Translate all captions into English.\n",
    "        A. Import LangDetect and Googletrans packages \n",
    "        B. Turn df.caption into a dataframe\n",
    "        C. Identify non-English words and translate into English using Googletrans\n",
    "        D. Use caption dataframe for sentiment analysis preproccessing "
   ]
  }
 ],
 "metadata": {
  "kernelspec": {
   "display_name": "Python 3",
   "language": "python",
   "name": "python3"
  },
  "language_info": {
   "codemirror_mode": {
    "name": "ipython",
    "version": 3
   },
   "file_extension": ".py",
   "mimetype": "text/x-python",
   "name": "python",
   "nbconvert_exporter": "python",
   "pygments_lexer": "ipython3",
   "version": "3.7.6"
  }
 },
 "nbformat": 4,
 "nbformat_minor": 4
}
